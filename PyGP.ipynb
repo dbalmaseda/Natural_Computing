{
  "nbformat": 4,
  "nbformat_minor": 0,
  "metadata": {
    "colab": {
      "name": "PyGP.ipynb",
      "provenance": []
    },
    "kernelspec": {
      "name": "python3",
      "display_name": "Python 3"
    },
    "language_info": {
      "name": "python"
    }
  },
  "cells": [
    {
      "cell_type": "code",
      "source": [
        "!pip install deap"
      ],
      "metadata": {
        "colab": {
          "base_uri": "https://localhost:8080/"
        },
        "id": "oJNjNZ3KjRu-",
        "outputId": "98d38d33-d1c7-4537-d191-115895dc591c"
      },
      "execution_count": 1,
      "outputs": [
        {
          "output_type": "stream",
          "name": "stdout",
          "text": [
            "Collecting deap\n",
            "  Downloading deap-1.3.1-cp37-cp37m-manylinux_2_5_x86_64.manylinux1_x86_64.manylinux_2_12_x86_64.manylinux2010_x86_64.whl (160 kB)\n",
            "\u001b[?25l\r\u001b[K     |██                              | 10 kB 23.7 MB/s eta 0:00:01\r\u001b[K     |████                            | 20 kB 17.2 MB/s eta 0:00:01\r\u001b[K     |██████                          | 30 kB 11.3 MB/s eta 0:00:01\r\u001b[K     |████████▏                       | 40 kB 9.8 MB/s eta 0:00:01\r\u001b[K     |██████████▏                     | 51 kB 5.4 MB/s eta 0:00:01\r\u001b[K     |████████████▏                   | 61 kB 5.8 MB/s eta 0:00:01\r\u001b[K     |██████████████▎                 | 71 kB 5.8 MB/s eta 0:00:01\r\u001b[K     |████████████████▎               | 81 kB 6.4 MB/s eta 0:00:01\r\u001b[K     |██████████████████▎             | 92 kB 5.0 MB/s eta 0:00:01\r\u001b[K     |████████████████████▍           | 102 kB 5.5 MB/s eta 0:00:01\r\u001b[K     |██████████████████████▍         | 112 kB 5.5 MB/s eta 0:00:01\r\u001b[K     |████████████████████████▍       | 122 kB 5.5 MB/s eta 0:00:01\r\u001b[K     |██████████████████████████▌     | 133 kB 5.5 MB/s eta 0:00:01\r\u001b[K     |████████████████████████████▌   | 143 kB 5.5 MB/s eta 0:00:01\r\u001b[K     |██████████████████████████████▌ | 153 kB 5.5 MB/s eta 0:00:01\r\u001b[K     |████████████████████████████████| 160 kB 5.5 MB/s \n",
            "\u001b[?25hRequirement already satisfied: numpy in /usr/local/lib/python3.7/dist-packages (from deap) (1.19.5)\n",
            "Installing collected packages: deap\n",
            "Successfully installed deap-1.3.1\n"
          ]
        }
      ]
    },
    {
      "cell_type": "code",
      "source": [
        "#from https://deap.readthedocs.io/en/master/examples/gp_symbreg.html#refpaperssymbreg\n",
        "import operator\n",
        "import math\n",
        "import random\n",
        "\n",
        "import numpy as np\n",
        "\n",
        "from deap import algorithms\n",
        "from deap import base\n",
        "from deap import creator\n",
        "from deap import tools\n",
        "from deap import gp\n",
        "\n",
        "x_points = [x/10. for x in range(-10,11)]\n",
        "y_points = np.array([0.0, -0.1629, -0.2624, -0.3129, -0.3264, -0.3125, -0.2784, -0.2289, -0.1664, -0.0909, 0.0, 0.1111, 0.2496, 0.4251, 0.6496, 0.9375, 1.3056, 1.7731, 2.3616, 3.0951, 4.0])\n",
        "\n",
        "# Define new functions\n",
        "def protectedDiv(left, right):\n",
        "    try:\n",
        "        return left / right\n",
        "    except ZeroDivisionError:\n",
        "        return 1\n",
        "\n",
        "def protectedLog(val):\n",
        "    try:\n",
        "        return math.log(val)\n",
        "    except:\n",
        "        return -10000\n",
        "\n",
        "# Add primitive functions and terminal set\n",
        "pset = gp.PrimitiveSet(\"MAIN\", 1)\n",
        "pset.addPrimitive(operator.add, 2)\n",
        "pset.addPrimitive(operator.sub, 2)\n",
        "pset.addPrimitive(operator.mul, 2)\n",
        "pset.addPrimitive(protectedDiv, 2)\n",
        "pset.addPrimitive(operator.neg, 1)\n",
        "pset.addPrimitive(math.cos, 1)\n",
        "pset.addPrimitive(math.sin, 1)\n",
        "pset.addPrimitive(math.exp, 1)\n",
        "pset.addPrimitive(protectedLog, 1)\n",
        "pset.addEphemeralConstant(\"2\", lambda: random.uniform(-1,1))\n",
        "pset.renameArguments(ARG0='x')\n",
        "\n",
        "creator.create(\"FitnessMin\", base.Fitness, weights=(-1.0,))\n",
        "creator.create(\"Individual\", gp.PrimitiveTree, fitness=creator.FitnessMin)\n",
        "\n",
        "toolbox = base.Toolbox()\n",
        "toolbox.register(\"expr\", gp.genHalfAndHalf, pset=pset, min_=1, max_=2)\n",
        "toolbox.register(\"individual\", tools.initIterate, creator.Individual, toolbox.expr)\n",
        "toolbox.register(\"population\", tools.initRepeat, list, toolbox.individual)\n",
        "toolbox.register(\"compile\", gp.compile, pset=pset)\n",
        "\n",
        "# Define the fitness function\n",
        "def evalSymbReg(individual, points):\n",
        "    # Transform the tree expression in a callable function\n",
        "    func = toolbox.compile(expr=individual)\n",
        "    # Evaluate the absolute error\n",
        "    sqerrors = (abs(func(x) - y_points[np.where(np.array(x_points) == x)][0]) for x in points)\n",
        "    return math.fsum(sqerrors),\n",
        "\n",
        "# Define necessary operations\n",
        "toolbox.register(\"evaluate\", evalSymbReg, points=[x/10. for x in range(-10,11)])\n",
        "toolbox.register(\"select\", tools.selTournament, tournsize=3)\n",
        "toolbox.register(\"mate\", gp.cxOnePoint)\n",
        "toolbox.register(\"expr_mut\", gp.genFull, min_=0, max_=2)\n",
        "toolbox.register(\"mutate\", gp.mutUniform, expr=toolbox.expr_mut, pset=pset)\n",
        "\n",
        "toolbox.decorate(\"mate\", gp.staticLimit(key=operator.attrgetter(\"height\"), max_value=17))\n",
        "toolbox.decorate(\"mutate\", gp.staticLimit(key=operator.attrgetter(\"height\"), max_value=17))\n",
        "\n",
        "random.seed(318)\n",
        "\n",
        "pop = toolbox.population(n=1000)\n",
        "hof = tools.HallOfFame(1)\n",
        "\n",
        "# Define stats\n",
        "stats_fit = tools.Statistics(lambda ind: ind.fitness.values)\n",
        "stats_size = tools.Statistics(len)\n",
        "mstats = tools.MultiStatistics(fitness=stats_fit, size=stats_size)\n",
        "mstats.register(\"avg\", np.mean)\n",
        "mstats.register(\"std\", np.std)\n",
        "mstats.register(\"min\", np.min)\n",
        "mstats.register(\"max\", np.max)\n",
        "\n",
        "# Execute algorithm\n",
        "pop, log = algorithms.eaSimple(pop, toolbox, 0.7, 0.0, 50, stats=mstats,\n",
        "                                halloffame=hof, verbose=True)"
      ],
      "metadata": {
        "colab": {
          "base_uri": "https://localhost:8080/"
        },
        "id": "wYj-FwDY7dAT",
        "outputId": "e8f44531-213b-4395-d002-2e1ee749503d"
      },
      "execution_count": 4,
      "outputs": [
        {
          "output_type": "stream",
          "name": "stderr",
          "text": [
            "/usr/local/lib/python3.7/dist-packages/deap/creator.py:141: RuntimeWarning: A class named 'FitnessMin' has already been created and it will be overwritten. Consider deleting previous creation of that class or rename it.\n",
            "  RuntimeWarning)\n",
            "/usr/local/lib/python3.7/dist-packages/deap/creator.py:141: RuntimeWarning: A class named 'Individual' has already been created and it will be overwritten. Consider deleting previous creation of that class or rename it.\n",
            "  RuntimeWarning)\n"
          ]
        },
        {
          "output_type": "stream",
          "name": "stdout",
          "text": [
            "   \t      \t                        fitness                        \t                      size                     \n",
            "   \t      \t-------------------------------------------------------\t-----------------------------------------------\n",
            "gen\tnevals\tavg    \tgen\tmax        \tmin    \tnevals\tstd    \tavg  \tgen\tmax\tmin\tnevals\tstd    \n",
            "0  \t1000  \t19328.4\t0  \t1.99984e+06\t5.45326\t1000  \t89431.1\t3.392\t0  \t7  \t2  \t1000  \t1.43608\n",
            "1  \t724   \t4759.9 \t1  \t210013     \t4.24698\t724   \t28100.6\t3.253\t1  \t9  \t2  \t724   \t1.36711\n",
            "2  \t658   \t561.462\t2  \t210013     \t4.24698\t658   \t8671   \t3.293\t2  \t8  \t2  \t658   \t1.33085\n",
            "3  \t710   \t1582.44\t3  \t210013     \t3.89252\t710   \t15155.2\t3.322\t3  \t9  \t2  \t710   \t1.35806\n",
            "4  \t722   \t455.413\t4  \t110021     \t3.89252\t722   \t6943.45\t3.42 \t4  \t8  \t2  \t722   \t1.41053\n",
            "5  \t712   \t13.9155\t5  \t106.389    \t3.89252\t712   \t7.34418\t3.61 \t5  \t8  \t2  \t712   \t1.45942\n",
            "6  \t668   \t122.769\t6  \t110010     \t3.89252\t668   \t3476.69\t4.043\t6  \t9  \t2  \t668   \t1.47077\n",
            "7  \t724   \t122.579\t7  \t110021     \t2.21733\t724   \t3477.03\t4.318\t7  \t10 \t2  \t724   \t1.39172\n",
            "8  \t718   \t11.3313\t8  \t64.0882    \t2.21733\t718   \t9.02166\t4.497\t8  \t11 \t2  \t718   \t1.30077\n",
            "9  \t696   \t11.374 \t9  \t98.6092    \t2.21733\t696   \t10.9365\t4.568\t9  \t10 \t2  \t696   \t1.29204\n",
            "10 \t712   \t12.1471\t10 \t98.6092    \t2.21733\t712   \t11.9722\t4.693\t10 \t10 \t3  \t712   \t1.34118\n",
            "11 \t682   \t3942.88\t11 \t3.93291e+06\t2.21733\t682   \t124307 \t4.897\t11 \t13 \t3  \t682   \t1.51538\n",
            "12 \t700   \t11.4173\t12 \t100.737    \t2.08981\t700   \t12.5497\t5.347\t12 \t13 \t3  \t700   \t1.81124\n",
            "13 \t676   \t10.2174\t13 \t104.688    \t1.88516\t676   \t11.9325\t5.916\t13 \t15 \t3  \t676   \t1.97963\n",
            "14 \t734   \t15.0379\t14 \t4366.46    \t1.88516\t734   \t138.29 \t6.446\t14 \t15 \t3  \t734   \t2.07342\n",
            "15 \t682   \t360.645\t15 \t350976     \t1.83524\t682   \t11093  \t7.141\t15 \t16 \t3  \t682   \t2.36329\n",
            "16 \t732   \t9.68952\t16 \t153.951    \t1.82284\t732   \t12.0876\t7.652\t16 \t17 \t3  \t732   \t2.60248\n",
            "17 \t692   \t3857.03\t17 \t3.84575e+06\t1.49535\t692   \t121552 \t8.239\t17 \t19 \t3  \t692   \t2.82274\n",
            "18 \t740   \t7.99648\t18 \t104.688    \t1.49535\t740   \t10.1223\t8.697\t18 \t18 \t3  \t740   \t2.7787 \n",
            "19 \t714   \t8.33476\t19 \t101.037    \t1.49535\t714   \t10.0226\t9.229\t19 \t23 \t3  \t714   \t3.10299\n",
            "20 \t694   \t8.67082\t20 \t111.289    \t1.49535\t694   \t11.202 \t9.648\t20 \t21 \t3  \t694   \t3.35292\n",
            "21 \t690   \t8.41102\t21 \t101.739    \t1.49535\t690   \t10.2024\t10.024\t21 \t25 \t3  \t690   \t3.21301\n",
            "22 \t690   \t7.56351\t22 \t93.3032    \t1.49535\t690   \t9.45793\t10.391\t22 \t21 \t3  \t690   \t3.15248\n",
            "23 \t698   \t8.96063\t23 \t101.739    \t1.49535\t698   \t11.9625\t10.748\t23 \t23 \t3  \t698   \t3.8027 \n",
            "24 \t688   \t9.18355\t24 \t117.48     \t1.49535\t688   \t13.3741\t10.904\t24 \t23 \t3  \t688   \t3.62309\n",
            "25 \t714   \t9.27056\t25 \t115.817    \t1.49535\t714   \t12.9484\t11.241\t25 \t26 \t3  \t714   \t3.72168\n",
            "26 \t684   \t8.78569\t26 \t115.817    \t1.49535\t684   \t11.6059\t11.45 \t26 \t27 \t3  \t684   \t3.72901\n",
            "27 \t682   \t17.2699\t27 \t7832.99    \t1.45338\t682   \t247.775\t11.627\t27 \t34 \t3  \t682   \t4.14655\n",
            "28 \t652   \t12.5504\t28 \t1973.2     \t1.45338\t652   \t72.6477\t11.799\t28 \t26 \t3  \t652   \t3.88543\n",
            "29 \t720   \t9.08907\t29 \t211.307    \t1.45338\t720   \t14.0594\t11.777\t29 \t27 \t3  \t720   \t4.08084\n",
            "30 \t700   \t10.2055\t30 \t151.578    \t1.45338\t700   \t16.835 \t11.889\t30 \t28 \t3  \t700   \t4.06087\n",
            "31 \t714   \t9.87258\t31 \t115.055    \t1.44745\t714   \t15.5977\t11.835\t31 \t25 \t3  \t714   \t4.20116\n",
            "32 \t724   \t14.1781\t32 \t3681.93    \t1.45338\t724   \t117.307\t12.078\t32 \t27 \t3  \t724   \t4.0269 \n",
            "33 \t730   \t9.9414 \t33 \t120.857    \t1.45338\t730   \t15.9461\t11.843\t33 \t27 \t3  \t730   \t4.14829\n",
            "34 \t668   \t10.5322\t34 \t411.138    \t1.45338\t668   \t20.8192\t11.844\t34 \t27 \t3  \t668   \t3.97463\n",
            "35 \t682   \t9.63447\t35 \t115.055    \t1.45338\t682   \t15.3127\t11.759\t35 \t28 \t3  \t682   \t4.2564 \n",
            "36 \t688   \t10.4255\t36 \t151.578    \t1.45338\t688   \t18.6287\t11.744\t36 \t28 \t3  \t688   \t4.25352\n",
            "37 \t680   \t10.2778\t37 \t1472.31    \t1.45338\t680   \t48.1666\t12.012\t37 \t29 \t3  \t680   \t4.33542\n",
            "38 \t688   \t10.3163\t38 \t120.857    \t1.45338\t688   \t17.1907\t12.087\t38 \t30 \t3  \t688   \t4.3696 \n",
            "39 \t724   \t15.6288\t39 \t5347.01    \t1.45338\t724   \t169.432\t12.121\t39 \t27 \t3  \t724   \t4.45246\n",
            "40 \t678   \t9.78449\t40 \t280.99     \t1.45338\t678   \t17.0232\t12.335\t40 \t28 \t3  \t678   \t4.6412 \n",
            "41 \t676   \t9.71992\t41 \t1011.12    \t1.45338\t676   \t34.3687\t12.384\t41 \t32 \t3  \t676   \t4.4173 \n",
            "42 \t744   \t10.2653\t42 \t152.937    \t1.45338\t744   \t16.4242\t12.409\t42 \t25 \t3  \t744   \t4.43551\n",
            "43 \t732   \t10.1885\t43 \t120.857    \t1.45338\t732   \t15.7444\t12.527\t43 \t29 \t3  \t732   \t4.63565\n",
            "44 \t724   \t5.97773e+07\t44 \t5.97772e+10\t1.33926\t724   \t1.88938e+09\t12.607\t44 \t28 \t3  \t724   \t4.60962\n",
            "45 \t678   \t9.59123    \t45 \t120.857    \t1.33926\t678   \t14.8825    \t12.891\t45 \t32 \t3  \t678   \t4.7135 \n",
            "46 \t736   \t10.7309    \t46 \t489.904    \t1.33926\t736   \t22.5302    \t12.973\t46 \t29 \t3  \t736   \t4.84812\n",
            "47 \t694   \t10.5737    \t47 \t247.012    \t1.33926\t694   \t18.8893    \t13.006\t47 \t30 \t3  \t694   \t4.84086\n",
            "48 \t676   \t986452     \t48 \t9.86441e+08\t1.33926\t676   \t3.11784e+07\t13.164\t48 \t28 \t3  \t676   \t4.65243\n",
            "49 \t710   \t10.3105    \t49 \t286.993    \t1.33926\t710   \t18.7376    \t13.334\t49 \t32 \t3  \t710   \t4.97398\n",
            "50 \t688   \t11.1376    \t50 \t202.317    \t1.33926\t688   \t20.3781    \t13.494\t50 \t36 \t3  \t688   \t4.97915\n"
          ]
        }
      ]
    },
    {
      "cell_type": "code",
      "source": [
        "import matplotlib.pyplot as plt\n",
        "\n",
        "#obtain data from log\n",
        "gen = log.select(\"gen\")\n",
        "fit_mins = log.chapters[\"fitness\"].select(\"min\")\n",
        "size_avgs = log.chapters[\"size\"].select(\"avg\")\n",
        "size_min = log.chapters[\"size\"].select(\"min\")\n",
        "size_max = log.chapters[\"size\"].select(\"max\")\n",
        "\n",
        "fig1, ax1 = plt.subplots(figsize=(4,5))\n",
        "ax1.plot(gen, fit_mins)\n",
        "plt.title('Best fitness per generation')\n",
        "plt.xlabel('gen')\n",
        "plt.ylabel('fitness')\n",
        "plt.show()\n",
        "\n",
        "fig, ax = plt.subplots(figsize=(4,5))\n",
        "ax.plot(gen, size_avgs, label='avg. size')\n",
        "plt.title('min, max and avg sizes per generation')\n",
        "plt.xlabel('gen')\n",
        "plt.ylabel('size')\n",
        "ax.fill_between(gen, size_min, size_max, alpha=0.2)\n",
        "plt.show()"
      ],
      "metadata": {
        "colab": {
          "base_uri": "https://localhost:8080/",
          "height": 683
        },
        "id": "F-kciCHQ9LlD",
        "outputId": "46aaf48c-9d74-4c0c-ca6b-a53878c8bfb5"
      },
      "execution_count": 28,
      "outputs": [
        {
          "output_type": "display_data",
          "data": {
            "image/png": "[encoded data removed]",
            "text/plain": [
              "<Figure size 288x360 with 1 Axes>"
            ]
          },
          "metadata": {
            "needs_background": "light"
          }
        },
        {
          "output_type": "display_data",
          "data": {
            "image/png": "[encoded data removed]",
            "text/plain": [
              "<Figure size 288x360 with 1 Axes>"
            ]
          },
          "metadata": {
            "needs_background": "light"
          }
        }
      ]
    }
  ]
}