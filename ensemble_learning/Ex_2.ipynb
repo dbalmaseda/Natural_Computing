{
 "cells": [
  {
   "cell_type": "markdown",
   "id": "9ea01e7e",
   "metadata": {},
   "source": [
    "## Excercise 2\n",
    "\n",
    "We use the sum of the binomial distribution over majority voting."
   ]
  },
  {
   "cell_type": "code",
   "execution_count": 1,
   "id": "008d8343",
   "metadata": {},
   "outputs": [],
   "source": [
    "import numpy as np \n",
    "import matplotlib.pyplot as plt\n",
    "import math"
   ]
  },
  {
   "cell_type": "code",
   "execution_count": 2,
   "id": "da4aa6f4",
   "metadata": {},
   "outputs": [],
   "source": [
    "def factorial(n = int):\n",
    "    fact = 1\n",
    "    for i in range(1,n+1):\n",
    "        fact = fact * i\n",
    "    return fact\n",
    "\n",
    "def comb(n,k):\n",
    "    comb = factorial(n)/(factorial(k)*factorial(n-k))\n",
    "    return comb"
   ]
  },
  {
   "cell_type": "code",
   "execution_count": 3,
   "id": "ebcdbdd7",
   "metadata": {},
   "outputs": [
    {
     "name": "stdout",
     "output_type": "stream",
     "text": [
      "[2 3]\n",
      "[0.384, 0.5120000000000001]\n"
     ]
    }
   ],
   "source": [
    "it = np.arange(math.ceil(3/2),3+1,1)\n",
    "print(it)\n",
    "aux =[]\n",
    "for i in it:\n",
    "    sol = comb(3, i)*(0.8**i)*(1-0.8)**(3-i)\n",
    "    aux.append(sol)\n",
    "print(aux)"
   ]
  },
  {
   "cell_type": "code",
   "execution_count": 4,
   "id": "9d7d4c41",
   "metadata": {},
   "outputs": [],
   "source": [
    "def alg(c,p):\n",
    "    it = np.arange(math.ceil(c/2),c+1,1)\n",
    "    aux =[]\n",
    "    for i in it:\n",
    "        sol = comb(c, i)*(p**i)*(1-p)**(c-i)\n",
    "        aux.append(sol)\n",
    "    return sum(aux)"
   ]
  },
  {
   "cell_type": "markdown",
   "id": "b8322caf",
   "metadata": {},
   "source": [
    "For the group of student"
   ]
  },
  {
   "cell_type": "code",
   "execution_count": 5,
   "id": "a82cc46a",
   "metadata": {},
   "outputs": [
    {
     "data": {
      "text/plain": [
       "0.8139079785845882"
      ]
     },
     "execution_count": 5,
     "metadata": {},
     "output_type": "execute_result"
    }
   ],
   "source": [
    "alg(19,0.6)"
   ]
  },
  {
   "cell_type": "markdown",
   "id": "b04e3103",
   "metadata": {},
   "source": [
    "For the doctors"
   ]
  },
  {
   "cell_type": "code",
   "execution_count": 6,
   "id": "b1786165",
   "metadata": {},
   "outputs": [
    {
     "data": {
      "text/plain": [
       "0.8960000000000001"
      ]
     },
     "execution_count": 6,
     "metadata": {},
     "output_type": "execute_result"
    }
   ],
   "source": [
    "alg(3,0.8)"
   ]
  },
  {
   "cell_type": "code",
   "execution_count": 7,
   "id": "7b028806",
   "metadata": {},
   "outputs": [
    {
     "data": {
      "text/plain": [
       "0.9029431561792509"
      ]
     },
     "execution_count": 7,
     "metadata": {},
     "output_type": "execute_result"
    }
   ],
   "source": [
    "alg(30,0.6)"
   ]
  },
  {
   "cell_type": "code",
   "execution_count": 8,
   "id": "453692dc",
   "metadata": {},
   "outputs": [
    {
     "data": {
      "image/png": "[encoded data removed]",
      "text/plain": [
       "<Figure size 432x288 with 1 Axes>"
      ]
     },
     "metadata": {
      "needs_background": "light"
     },
     "output_type": "display_data"
    }
   ],
   "source": [
    "c = np.arange(3, 31, 3)\n",
    "p = [0.6, 0.7, 0.8, 0.9]\n",
    "\n",
    "for j in p:    \n",
    "    res = []\n",
    "    for i in c:\n",
    "        res.append(alg(i,j))\n",
    "    plt.plot(c, res)\n",
    "plt.legend(p)\n",
    "plt.title('Probability of right decision vs. c')\n",
    "plt.xlabel('c')\n",
    "plt.ylabel('Probability')\n",
    "plt.show()"
   ]
  }
 ],
 "metadata": {
  "kernelspec": {
   "display_name": "Python 3 (ipykernel)",
   "language": "python",
   "name": "python3"
  },
  "language_info": {
   "codemirror_mode": {
    "name": "ipython",
    "version": 3
   },
   "file_extension": ".py",
   "mimetype": "text/x-python",
   "name": "python",
   "nbconvert_exporter": "python",
   "pygments_lexer": "ipython3",
   "version": "3.7.10"
  }
 },
 "nbformat": 4,
 "nbformat_minor": 5
}
