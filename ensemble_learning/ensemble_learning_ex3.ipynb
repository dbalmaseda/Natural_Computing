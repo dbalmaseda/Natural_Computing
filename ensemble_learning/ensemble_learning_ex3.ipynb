{
  "nbformat": 4,
  "nbformat_minor": 0,
  "metadata": {
    "colab": {
      "name": "ensemble_learning_ex3.ipynb",
      "provenance": []
    },
    "kernelspec": {
      "name": "python3",
      "display_name": "Python 3"
    },
    "language_info": {
      "name": "python"
    }
  },
  "cells": [
    {
      "cell_type": "code",
      "execution_count": null,
      "metadata": {
        "id": "Vtb-iDT7Xrfi"
      },
      "outputs": [],
      "source": [
        "import numpy as np\n",
        "import matplotlib.pyplot as plt"
      ]
    },
    {
      "cell_type": "code",
      "source": [
        "#b\n",
        "\n",
        "def classify(value_array, p):\n",
        "  '''\n",
        "  simulates a classification with correct prob p\n",
        "  \n",
        "  value_array: ground truth values (0 or 1)\n",
        "  '''\n",
        "  correct_class = np.random.rand(len(value_array)) < p\n",
        "  flipped = np.invert(np.array(value_array, dtype=bool))\n",
        "  final = np.where(correct_class, value_array, flipped)\n",
        "\n",
        "  return final\n",
        "  \n",
        "\n",
        "def prob_correct_decision(w, ground_truth, classifications):\n",
        "  '''\n",
        "  Computes the majority vote of the classifications using weight w for the strong classifier,\n",
        "  then compares it to the ground truth to get a rough probability of the correct classification\n",
        "  '''\n",
        "  vote = w*classifications[0]\n",
        "  for a in classifications[1:]:\n",
        "    vote += ((1-w)/10)*a\n",
        "  vote = np.round(vote)\n",
        "\n",
        "  final = vote-ground_truth\n",
        "  final[final == -1] = 1\n",
        "  final = np.count_nonzero(final == 1)/len(ground_truth)\n",
        "\n",
        "  return 1-final\n",
        "\n",
        "\n",
        "array_len = 10000 #number of classified values\n",
        "ground_truth = np.round(np.random.rand(array_len))\n",
        "\n",
        "classifications = [] #first is the strong classifier, then the other 10\n",
        "classifications.append(classify(ground_truth, 0.8))\n",
        "for i in range(10):\n",
        "  classifications.append(classify(ground_truth, 0.6))\n",
        "\n",
        "weights = np.linspace(0, 1, 30)\n",
        "\n",
        "probs = []\n",
        "for w in weights:\n",
        "  probs.append(prob_correct_decision(w, ground_truth, classifications))\n",
        "\n",
        "plt.plot(weights, probs)\n",
        "plt.xlabel('w')\n",
        "plt.ylabel('$p_{correct}$')\n",
        "plt.axvline(x = 1/11, c='orange')\n",
        "plt.show()\n",
        "\n",
        "print('best weight: '+str(np.argmax(probs)/30))\n",
        "#print(probs)\n"
      ],
      "metadata": {
        "colab": {
          "base_uri": "https://localhost:8080/",
          "height": 335
        },
        "id": "TQqjw-A0YQY2",
        "outputId": "ab40b2b2-cc01-4dd0-fa51-3534ed40bf50"
      },
      "execution_count": null,
      "outputs": [
        {
          "output_type": "display_data",
          "data": {
            "text/plain": [
              "<Figure size 432x288 with 1 Axes>"
            ],
            "image/png": "[encoded data removed]"
          },
          "metadata": {
            "needs_background": "light"
          }
        },
        {
          "output_type": "stream",
          "name": "stdout",
          "text": [
            "best weight: 0.16666666666666666\n",
            "[0.7311268873112688, 0.7935206479352065, 0.7935206479352065, 0.7935206479352065, 0.7935206479352065, 0.8332166783321668, 0.8332166783321668, 0.8332166783321668, 0.8332166783321668, 0.8248175182481752, 0.8248175182481752, 0.8087191280871913, 0.8087191280871913, 0.8033196680331967, 0.8033196680331967, 0.8025197480251975, 0.8025197480251975, 0.8025197480251975, 0.8025197480251975, 0.8025197480251975, 0.8025197480251975, 0.8025197480251975, 0.8025197480251975, 0.8025197480251975, 0.8025197480251975, 0.8025197480251975, 0.8025197480251975, 0.8025197480251975, 0.8025197480251975, 0.8025197480251975]\n"
          ]
        }
      ]
    },
    {
      "cell_type": "code",
      "source": [
        "#d\n",
        "\n",
        "err_array = np.linspace(0.01,1,30)\n",
        "alpha = np.log((1-err_array)/err_array)\n",
        "\n",
        "plt.plot(err_array, alpha)\n",
        "plt.xlabel('$err_m$')\n",
        "plt.ylabel('$alpha_{m}$')\n",
        "plt.title('$log((1-err_m)/err_m)$')\n",
        "plt.plot()"
      ],
      "metadata": {
        "colab": {
          "base_uri": "https://localhost:8080/",
          "height": 354
        },
        "id": "xHKkPdlq6ukH",
        "outputId": "e2c1a29e-eced-4b3f-b18b-c373d822594b"
      },
      "execution_count": null,
      "outputs": [
        {
          "output_type": "stream",
          "name": "stderr",
          "text": [
            "/usr/local/lib/python3.7/dist-packages/ipykernel_launcher.py:4: RuntimeWarning: divide by zero encountered in log\n",
            "  after removing the cwd from sys.path.\n"
          ]
        },
        {
          "output_type": "execute_result",
          "data": {
            "text/plain": [
              "[]"
            ]
          },
          "metadata": {},
          "execution_count": 24
        },
        {
          "output_type": "display_data",
          "data": {
            "text/plain": [
              "<Figure size 432x288 with 1 Axes>"
            ],
            "image/png": "[encoded data removed]"
          },
          "metadata": {
            "needs_background": "light"
          }
        }
      ]
    }
  ]
}