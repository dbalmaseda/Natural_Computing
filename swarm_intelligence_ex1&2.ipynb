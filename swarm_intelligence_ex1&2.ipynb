{
 "cells": [
  {
   "cell_type": "code",
   "execution_count": 1,
   "metadata": {},
   "outputs": [],
   "source": [
    "import numpy as np\n",
    "import matplotlib.pyplot as plt"
   ]
  },
  {
   "cell_type": "code",
   "execution_count": 22,
   "metadata": {},
   "outputs": [
    {
     "data": {
      "text/plain": [
       "[730.3562005821021, 807.9150929576671, 829.0117583869608]"
      ]
     },
     "execution_count": 22,
     "metadata": {},
     "output_type": "execute_result"
    }
   ],
   "source": [
    "#Exercise 1 a): compute fitness of each particle\n",
    "f=[0]*3\n",
    "x=np.array([[-400,-400],[-410,-410],[-415,-415]])\n",
    "for i in range(3):\n",
    "    f[i]=-x[i][0]*np.sin(np.sqrt(np.abs(x[i][0]))) + -x[i][1]*np.sin(np.sqrt(np.abs(x[i][1])))\n",
    "f"
   ]
  },
  {
   "cell_type": "code",
   "execution_count": 30,
   "metadata": {},
   "outputs": [
    {
     "name": "stdout",
     "output_type": "stream",
     "text": [
      "[[-500 -500]\n",
      " [-500 -500]\n",
      " [-500 -500]]\n",
      "[-361.1783170627835, -361.1783170627835, -361.1783170627835]\n"
     ]
    }
   ],
   "source": [
    "#Exercie 1 b): positions and fitness after one iteration of the PSO algorithm when ω = 2\n",
    "f=[0]*3\n",
    "x=np.array([[-400,-400],[-410,-410],[-415,-415]])\n",
    "v=np.array([[-50,-50],[-50,-50],[-50,-50]])\n",
    "for i in range(3):\n",
    "    v[i]=2*v[i] + np.dot(0.5,(x[i]-x[i])) + np.dot(0.5,(-415-x[i]))\n",
    "    x[i]=x[i]+v[i]\n",
    "    if x[i][0]<-500:\n",
    "        x[i]=-500\n",
    "    elif x[i][0]>500:\n",
    "        x[i]=500\n",
    "    if x[i][1]<-500:\n",
    "        x[i]=-500\n",
    "    elif x[i][1]>500:\n",
    "        x[i]=500\n",
    "    f[i]=-x[i][0]*np.sin(np.sqrt(np.abs(x[i][0]))) + -x[i][1]*np.sin(np.sqrt(np.abs(x[i][1])))\n",
    "print(x)\n",
    "print(f)"
   ]
  },
  {
   "cell_type": "code",
   "execution_count": 28,
   "metadata": {},
   "outputs": [
    {
     "name": "stdout",
     "output_type": "stream",
     "text": [
      "[[-432 -432]\n",
      " [-437 -437]\n",
      " [-440 -440]]\n",
      "[807.3117149626796, 773.5345960150081, 747.5297044219257]\n"
     ]
    }
   ],
   "source": [
    "#Exercie 1 b): positions and fitness after one iteration of the PSO algorithm when ω = 0.5\n",
    "f=[0]*3\n",
    "x=np.array([[-400,-400],[-410,-410],[-415,-415]])\n",
    "v=np.array([[-50,-50],[-50,-50],[-50,-50]])\n",
    "for i in range(3):\n",
    "    v[i]=0.5*v[i] + np.dot(0.5,(x[i]-x[i])) + np.dot(0.5,(-415-x[i]))\n",
    "    x[i]=x[i]+v[i]\n",
    "    if x[i][0]<-500:\n",
    "        x[i]=-500\n",
    "    elif x[i][0]>500:\n",
    "        x[i]=500\n",
    "    if x[i][1]<-500:\n",
    "        x[i]=-500\n",
    "    elif x[i][1]>500:\n",
    "        x[i]=500\n",
    "    f[i]=-x[i][0]*np.sin(np.sqrt(np.abs(x[i][0]))) + -x[i][1]*np.sin(np.sqrt(np.abs(x[i][1])))\n",
    "print(x)\n",
    "print(f)"
   ]
  },
  {
   "cell_type": "code",
   "execution_count": 29,
   "metadata": {},
   "outputs": [
    {
     "name": "stdout",
     "output_type": "stream",
     "text": [
      "[[-412 -412]\n",
      " [-417 -417]\n",
      " [-420 -420]]\n",
      "[817.8181912692098, 833.9999787750679, 837.7290352197082]\n"
     ]
    }
   ],
   "source": [
    "#Exercie 1 b): positions and fitness after one iteration of the PSO algorithm when ω = 0.1\n",
    "f=[0]*3\n",
    "x=np.array([[-400,-400],[-410,-410],[-415,-415]])\n",
    "v=np.array([[-50,-50],[-50,-50],[-50,-50]])\n",
    "for i in range(3):\n",
    "    v[i]=0.1*v[i] + np.dot(0.5,(x[i]-x[i])) + np.dot(0.5,(-415-x[i]))\n",
    "    x[i]=x[i]+v[i]\n",
    "    if x[i][0]<-500:\n",
    "        x[i]=-500\n",
    "    elif x[i][0]>500:\n",
    "        x[i]=500\n",
    "    if x[i][1]<-500:\n",
    "        x[i]=-500\n",
    "    elif x[i][1]>500:\n",
    "        x[i]=500\n",
    "    f[i]=-x[i][0]*np.sin(np.sqrt(np.abs(x[i][0]))) + -x[i][1]*np.sin(np.sqrt(np.abs(x[i][1])))\n",
    "print(x)\n",
    "print(f)"
   ]
  },
  {
   "cell_type": "code",
   "execution_count": 50,
   "metadata": {},
   "outputs": [
    {
     "data": {
      "text/plain": [
       "([20,\n",
       "  7.0,\n",
       "  4.8999999999999995,\n",
       "  3.4299999999999993,\n",
       "  2.4009999999999994,\n",
       "  1.6806999999999994,\n",
       "  1.1764899999999996,\n",
       "  0.8235429999999997,\n",
       "  0.5764800999999997,\n",
       "  0.4035360699999998,\n",
       "  0.2824752489999998,\n",
       "  0.19773267429999986,\n",
       "  0.13841287200999988,\n",
       "  0.09688901040699992,\n",
       "  0.06782230728489994,\n",
       "  0.04747561509942995,\n",
       "  0.033232930569600964,\n",
       "  0.023263051398720674,\n",
       "  0.016284135979104473,\n",
       "  0.011398895185373131],\n",
       " 0,\n",
       " 0)"
      ]
     },
     "execution_count": 50,
     "metadata": {},
     "output_type": "execute_result"
    }
   ],
   "source": [
    "#Exercise 2 a)\n",
    "def pso(pos,v,omega,r):\n",
    "    '''\n",
    "    Minimize f(x)=x**2 with a particle 'swarm' consisting of a single member\n",
    "    Input: initial position and velocity of the particle, inertia weight and r\n",
    "    Output: final position of the particle and best fitness and position found\n",
    "    '''\n",
    "    x=[0]*20\n",
    "    x[0]=pos\n",
    "    first=True\n",
    "    for i in range(1,20):\n",
    "        if first:\n",
    "            first=False\n",
    "            best=x[i]\n",
    "            f_best=x[i]**2\n",
    "        v=omega*v + 1.5*r*(best-x[i]) + 1.5*r*(best-x[i])\n",
    "        x[i]=x[i]+v\n",
    "        f=x[i]**2\n",
    "        if f<f_best:\n",
    "            best=x[i]\n",
    "            f_best=f\n",
    "    return x,f_best,best\n",
    "pso(20,10,0.5,0.5)\n",
    "pso(20,10,0.7,1)"
   ]
  },
  {
   "cell_type": "code",
   "execution_count": 51,
   "metadata": {},
   "outputs": [
    {
     "data": {
      "text/plain": [
       "Text(209.61818181818177, 0.5, 'position')"
      ]
     },
     "execution_count": 51,
     "metadata": {},
     "output_type": "execute_result"
    },
    {
     "data": {
      "image/png": "[encoded data removed]",
      "text/plain": [
       "<Figure size 432x288 with 2 Axes>"
      ]
     },
     "metadata": {
      "needs_background": "light"
     },
     "output_type": "display_data"
    }
   ],
   "source": [
    "#Exercise 2 b): plot the trajectory of a single particle optimizing f(x)=x**2\n",
    "fig, ax = plt.subplots(1, 2)\n",
    "fig.tight_layout()\n",
    "t=np.linspace(0,20,20)\n",
    "x,f,best=pso(20,10,0.5,0.5)\n",
    "x2,f2,best2=pso(20,10,0.7,1)\n",
    "\n",
    "ax[0].plot(t,x)\n",
    "ax[0].set_xlabel('iterations')\n",
    "ax[0].set_ylabel('position')\n",
    "\n",
    "ax[1].plot(t,x2)\n",
    "ax[1].set_xlabel('iterations')\n",
    "ax[1].set_ylabel('position')"
   ]
  },
  {
   "cell_type": "code",
   "execution_count": null,
   "metadata": {},
   "outputs": [],
   "source": []
  }
 ],
 "metadata": {
  "kernelspec": {
   "display_name": "Python 3",
   "language": "python",
   "name": "python3"
  },
  "language_info": {
   "codemirror_mode": {
    "name": "ipython",
    "version": 3
   },
   "file_extension": ".py",
   "mimetype": "text/x-python",
   "name": "python",
   "nbconvert_exporter": "python",
   "pygments_lexer": "ipython3",
   "version": "3.8.5"
  }
 },
 "nbformat": 4,
 "nbformat_minor": 4
}
