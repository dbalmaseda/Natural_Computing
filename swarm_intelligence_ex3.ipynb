{
  "nbformat": 4,
  "nbformat_minor": 0,
  "metadata": {
    "colab": {
      "name": "swarm_intelligence_ex3.ipynb",
      "provenance": [],
      "collapsed_sections": []
    },
    "kernelspec": {
      "name": "python3",
      "display_name": "Python 3"
    },
    "language_info": {
      "name": "python"
    }
  },
  "cells": [
    {
      "cell_type": "markdown",
      "source": [
        "# Excercise 3\n"
      ],
      "metadata": {
        "id": "0-Ntagl6IW-r"
      }
    },
    {
      "cell_type": "code",
      "execution_count": 13,
      "metadata": {
        "id": "sZuIDr2ADYEI"
      },
      "outputs": [],
      "source": [
        "import numpy as np\n",
        "import matplotlib.pyplot as plt\n",
        "import pandas as pd\n",
        "import random\n",
        "from math import sqrt"
      ]
    },
    {
      "cell_type": "markdown",
      "source": [
        "For kmean implementation.\n",
        "* $N_d$ number of parameters of each data vector\n",
        "* $N_o$ number of vectors to be clusterd\n",
        "* $N_c$ number of clusters to form\n",
        "* $z_p$ denotes the p-th data vector\n",
        "* $m_j$ denotes the centroid vector of cluster j \n",
        "* $n_j$ number of data vectors in cluster j\n",
        "* $C_j$ subset of data vectors that form cluster\n",
        "\n",
        "For PSO implementation.\n",
        "* $x_i$ current position of the particle\n",
        "* $v_i$ current velocity of the particle\n",
        "* $y_i$ personal best position of the particle "
      ],
      "metadata": {
        "id": "-iXPEJR-N4e5"
      }
    },
    {
      "cell_type": "code",
      "source": [
        "def distance(zp, mj):\n",
        "    #takes two arrays of n dimension and computes the distance \n",
        "    sum = 0\n",
        "    for i in range(zp.shape[0]):\n",
        "        aux = zp[i] - mj[i]\n",
        "        sum += aux**2\n",
        "    return sqrt(sum)\n",
        "\n",
        "def velocity(v, shape, pos, b_pos, best):\n",
        "    #input: current velocity, shape of r1&2, current position\n",
        "    # , local best, global best\n",
        "    w = 0.73\n",
        "    a1 = 1.5\n",
        "    a2 = 1.5\n",
        "\n",
        "    r1 = np.random.uniform(0,1,shape)\n",
        "    r2 = np.random.uniform(0,1,shape)\n",
        "\n",
        "    aux1 = a1*r1\n",
        "    aux2 = a2*r2\n",
        "\n",
        "    n_v = w*v+ np.multiply(aux1, np.subtract(b_pos,pos))+ np.multiply(aux2, np.subtract(best,pos))\n",
        "    return n_v\n",
        "def Q_error(centroid, data):\n",
        "    sum_j = 0\n",
        "    for j in centroid.shape[0]:\n",
        "        sum_i = 0\n",
        "        for i in range(data.shape[0]):\n",
        "            sum_i = sum_i + distance(data[i],centroid[j])\n",
        "        sum_j = sum_j + (sum_i/data.shape[0])\n",
        "    return sum_j/centroid.shape[0]\n",
        "        "
      ],
      "metadata": {
        "id": "IWbue651aR3g"
      },
      "execution_count": 20,
      "outputs": []
    },
    {
      "cell_type": "code",
      "source": [
        "# Generate dataset using Artificial problem 1\n",
        "X = np.random.uniform(-1,1,(400,2))\n",
        "res = np.zeros(400)\n",
        "for idx, data in enumerate(X):\n",
        "    if data[0] >=0.7:\n",
        "        res[idx]=1\n",
        "    elif data[0]<=0.3 and data[1]>=(-0.2-data[0]):\n",
        "        res[idx]=1"
      ],
      "metadata": {
        "id": "JFui5fNytbbT"
      },
      "execution_count": 15,
      "outputs": []
    },
    {
      "cell_type": "code",
      "source": [
        "# PSO algorithm\n",
        "def PSO(data,tmax,par):\n",
        "    particles = {}\n",
        "    clusters = {}\n",
        "    No = data.shape[0] # num of rows\n",
        "\n",
        "    for i in range(par):\n",
        "        # Creates particles (1)\n",
        "        indx = np.random.choice(No, size=Nc, replace=False)\n",
        "        particles[i] = data[indx, :]\n",
        "        clusters[i] = np.zeros(No)\n",
        "    \n",
        "    v = np.zeros(len(particles))\n",
        "    g_best = np.array([]) #global best position\n",
        "\n",
        "    for t in range(1,tmax):\n",
        "        for p in particles:\n",
        "            for idx in range(No):\n",
        "                d = np.zeros(len(par[p]))\n",
        "                for clus, cent in enumerate(par[p]):\n",
        "                    dis = distance(data[idx],cent)\n",
        "                    d[clus] = dis\n",
        "                clusters[p][idx] = d.index(min(d))\n",
        "\n",
        "    return particles ,clusters       \n"
      ],
      "metadata": {
        "id": "dZRWag28IIM_"
      },
      "execution_count": null,
      "outputs": []
    },
    {
      "cell_type": "code",
      "source": [
        "# Kmeans\n",
        "def kmeans(data, Nc, stop):\n",
        "    # input: number of clusters and data as numpy array\n",
        "    No = data.shape[0] # num of rows \n",
        "    indx = np.random.choice(No, size=Nc, replace=False)\n",
        "    mj = data[indx, :] #centroids\n",
        "    cluster = np.zeros(No) #clusters\n",
        "\n",
        "    for t in range(stop):\n",
        "        for i in range(No):\n",
        "            min_d = float('inf')\n",
        "            for clus, cent in enumerate(mj):\n",
        "                dis = distance(data[i],cent)\n",
        "                if dis < min_d:\n",
        "                    min_d = dis\n",
        "                    cluster[i] = clus\n",
        "        \n",
        "        #Modifing centroids\n",
        "        mod_mj =  np.zeros(mj.shape)# modified centroids   \n",
        "        for idx in range(Nc):\n",
        "            aux_m = data[cluster == idx]\n",
        "            cent=np.zeros(aux_m.shape[1])\n",
        "            for i in range(aux_m.shape[1]):\n",
        "                cent[i] = aux_m[:,i].mean()\n",
        "            mod_mj[idx] = cent\n",
        "        #checking if optimum centroids\n",
        "        if np.count_nonzero(mj-mod_mj) == 0:\n",
        "            stop = 0\n",
        "        else:\n",
        "            mj = mod_mj\n",
        "\n",
        "    return mj, cluster   "
      ],
      "metadata": {
        "id": "mo6OASnPIIZr"
      },
      "execution_count": 18,
      "outputs": []
    },
    {
      "cell_type": "code",
      "source": [
        "sol_k = np.zeros(30)\n",
        "for i in range(30):\n",
        "    centroid, _ = kmeans(X, 2, 100)\n",
        "    sol_k[i] = Q_error(centroid, X)\n",
        "\n",
        "print(sol_k)\n"
      ],
      "metadata": {
        "id": "b9-QTvcmc2os"
      },
      "execution_count": null,
      "outputs": []
    }
  ]
}